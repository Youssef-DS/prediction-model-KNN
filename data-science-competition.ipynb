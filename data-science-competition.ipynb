{
 "cells": [
  {
   "cell_type": "code",
   "execution_count": 1,
   "id": "personal-czech",
   "metadata": {
    "_cell_guid": "b1076dfc-b9ad-4769-8c92-a6c4dae69d19",
    "_uuid": "8f2839f25d086af736a60e9eeb907d3b93b6e0e5",
    "execution": {
     "iopub.execute_input": "2021-05-05T23:06:17.719470Z",
     "iopub.status.busy": "2021-05-05T23:06:17.717702Z",
     "iopub.status.idle": "2021-05-05T23:06:19.088611Z",
     "shell.execute_reply": "2021-05-05T23:06:19.087941Z"
    },
    "papermill": {
     "duration": 1.40244,
     "end_time": "2021-05-05T23:06:19.088797",
     "exception": false,
     "start_time": "2021-05-05T23:06:17.686357",
     "status": "completed"
    },
    "tags": []
   },
   "outputs": [
    {
     "name": "stdout",
     "output_type": "stream",
     "text": [
      "Setup Complete\n",
      "/kaggle/input/training-data/data.csv\n",
      "/kaggle/input/test-data/test_data.csv\n"
     ]
    }
   ],
   "source": [
    "# This Python 3 environment comes with many helpful analytics libraries installed\n",
    "# It is defined by the kaggle/python Docker image: https://github.com/kaggle/docker-python\n",
    "# For example, here's several helpful packages to load\n",
    "\n",
    "import numpy as np # linear algebra\n",
    "import pandas as pd # data processing, CSV file I/O (e.g. pd.read_csv)\n",
    "from sklearn.neighbors import KNeighborsClassifier\n",
    "from sklearn.model_selection import train_test_split\n",
    "from sklearn import preprocessing\n",
    "from sklearn import metrics\n",
    "from sklearn import linear_model\n",
    "from sklearn import datasets\n",
    "pd.plotting.register_matplotlib_converters()\n",
    "import matplotlib.pyplot as plt\n",
    "%matplotlib inline\n",
    "import seaborn as sns\n",
    "print(\"Setup Complete\")\n",
    "# Input data files are available in the read-only \"../input/\" directory\n",
    "# For example, running this (by clicking run or pressing Shift+Enter) will list all files under the input directory\n",
    "\n",
    "import os\n",
    "for dirname, _, filenames in os.walk('/kaggle/input'):\n",
    "    for filename in filenames:\n",
    "        print(os.path.join(dirname, filename))\n",
    "\n",
    "# You can write up to 20GB to the current directory (/kaggle/working/) that gets preserved as output when you create a version using \"Save & Run All\" \n",
    "# You can also write temporary files to /kaggle/temp/, but they won't be saved outside of the current session"
   ]
  },
  {
   "cell_type": "markdown",
   "id": "determined-smart",
   "metadata": {
    "papermill": {
     "duration": 0.02574,
     "end_time": "2021-05-05T23:06:19.141798",
     "exception": false,
     "start_time": "2021-05-05T23:06:19.116058",
     "status": "completed"
    },
    "tags": []
   },
   "source": [
    "# Gathering data"
   ]
  },
  {
   "cell_type": "code",
   "execution_count": 2,
   "id": "flush-ancient",
   "metadata": {
    "execution": {
     "iopub.execute_input": "2021-05-05T23:06:19.197992Z",
     "iopub.status.busy": "2021-05-05T23:06:19.197004Z",
     "iopub.status.idle": "2021-05-05T23:06:19.224153Z",
     "shell.execute_reply": "2021-05-05T23:06:19.224636Z"
    },
    "papermill": {
     "duration": 0.056946,
     "end_time": "2021-05-05T23:06:19.224829",
     "exception": false,
     "start_time": "2021-05-05T23:06:19.167883",
     "status": "completed"
    },
    "tags": []
   },
   "outputs": [],
   "source": [
    "training_data = pd.read_csv('/kaggle/input/training-data/data.csv')\n",
    "test_data = pd.read_csv('/kaggle/input/test-data/test_data.csv')"
   ]
  },
  {
   "cell_type": "markdown",
   "id": "radical-refund",
   "metadata": {
    "papermill": {
     "duration": 0.025732,
     "end_time": "2021-05-05T23:06:19.276704",
     "exception": false,
     "start_time": "2021-05-05T23:06:19.250972",
     "status": "completed"
    },
    "tags": []
   },
   "source": [
    "# Assessing data"
   ]
  },
  {
   "cell_type": "code",
   "execution_count": 3,
   "id": "sexual-pasta",
   "metadata": {
    "execution": {
     "iopub.execute_input": "2021-05-05T23:06:19.348871Z",
     "iopub.status.busy": "2021-05-05T23:06:19.348209Z",
     "iopub.status.idle": "2021-05-05T23:06:19.367703Z",
     "shell.execute_reply": "2021-05-05T23:06:19.367068Z"
    },
    "papermill": {
     "duration": 0.065103,
     "end_time": "2021-05-05T23:06:19.367844",
     "exception": false,
     "start_time": "2021-05-05T23:06:19.302741",
     "status": "completed"
    },
    "tags": []
   },
   "outputs": [
    {
     "data": {
      "text/html": [
       "<div>\n",
       "<style scoped>\n",
       "    .dataframe tbody tr th:only-of-type {\n",
       "        vertical-align: middle;\n",
       "    }\n",
       "\n",
       "    .dataframe tbody tr th {\n",
       "        vertical-align: top;\n",
       "    }\n",
       "\n",
       "    .dataframe thead th {\n",
       "        text-align: right;\n",
       "    }\n",
       "</style>\n",
       "<table border=\"1\" class=\"dataframe\">\n",
       "  <thead>\n",
       "    <tr style=\"text-align: right;\">\n",
       "      <th></th>\n",
       "      <th>Unnamed: 0</th>\n",
       "      <th>CustomerID</th>\n",
       "      <th>Genre</th>\n",
       "      <th>Age</th>\n",
       "      <th>Annual Income (k$)</th>\n",
       "      <th>Class</th>\n",
       "    </tr>\n",
       "  </thead>\n",
       "  <tbody>\n",
       "    <tr>\n",
       "      <th>0</th>\n",
       "      <td>0</td>\n",
       "      <td>10</td>\n",
       "      <td>Female</td>\n",
       "      <td>30</td>\n",
       "      <td>19</td>\n",
       "      <td>3</td>\n",
       "    </tr>\n",
       "    <tr>\n",
       "      <th>1</th>\n",
       "      <td>1</td>\n",
       "      <td>20</td>\n",
       "      <td>Female</td>\n",
       "      <td>35</td>\n",
       "      <td>23</td>\n",
       "      <td>3</td>\n",
       "    </tr>\n",
       "    <tr>\n",
       "      <th>2</th>\n",
       "      <td>2</td>\n",
       "      <td>200</td>\n",
       "      <td>Male</td>\n",
       "      <td>30</td>\n",
       "      <td>137</td>\n",
       "      <td>3</td>\n",
       "    </tr>\n",
       "    <tr>\n",
       "      <th>3</th>\n",
       "      <td>3</td>\n",
       "      <td>153</td>\n",
       "      <td>Female</td>\n",
       "      <td>44</td>\n",
       "      <td>78</td>\n",
       "      <td>1</td>\n",
       "    </tr>\n",
       "    <tr>\n",
       "      <th>4</th>\n",
       "      <td>4</td>\n",
       "      <td>4</td>\n",
       "      <td>Female</td>\n",
       "      <td>23</td>\n",
       "      <td>16</td>\n",
       "      <td>3</td>\n",
       "    </tr>\n",
       "    <tr>\n",
       "      <th>...</th>\n",
       "      <td>...</td>\n",
       "      <td>...</td>\n",
       "      <td>...</td>\n",
       "      <td>...</td>\n",
       "      <td>...</td>\n",
       "      <td>...</td>\n",
       "    </tr>\n",
       "    <tr>\n",
       "      <th>155</th>\n",
       "      <td>155</td>\n",
       "      <td>58</td>\n",
       "      <td>Male</td>\n",
       "      <td>69</td>\n",
       "      <td>44</td>\n",
       "      <td>2</td>\n",
       "    </tr>\n",
       "    <tr>\n",
       "      <th>156</th>\n",
       "      <td>156</td>\n",
       "      <td>151</td>\n",
       "      <td>Male</td>\n",
       "      <td>43</td>\n",
       "      <td>78</td>\n",
       "      <td>1</td>\n",
       "    </tr>\n",
       "    <tr>\n",
       "      <th>157</th>\n",
       "      <td>157</td>\n",
       "      <td>135</td>\n",
       "      <td>Male</td>\n",
       "      <td>20</td>\n",
       "      <td>73</td>\n",
       "      <td>1</td>\n",
       "    </tr>\n",
       "    <tr>\n",
       "      <th>158</th>\n",
       "      <td>158</td>\n",
       "      <td>144</td>\n",
       "      <td>Female</td>\n",
       "      <td>32</td>\n",
       "      <td>76</td>\n",
       "      <td>3</td>\n",
       "    </tr>\n",
       "    <tr>\n",
       "      <th>159</th>\n",
       "      <td>159</td>\n",
       "      <td>112</td>\n",
       "      <td>Female</td>\n",
       "      <td>19</td>\n",
       "      <td>63</td>\n",
       "      <td>2</td>\n",
       "    </tr>\n",
       "  </tbody>\n",
       "</table>\n",
       "<p>160 rows × 6 columns</p>\n",
       "</div>"
      ],
      "text/plain": [
       "     Unnamed: 0  CustomerID   Genre  Age  Annual Income (k$)  Class\n",
       "0             0          10  Female   30                  19      3\n",
       "1             1          20  Female   35                  23      3\n",
       "2             2         200    Male   30                 137      3\n",
       "3             3         153  Female   44                  78      1\n",
       "4             4           4  Female   23                  16      3\n",
       "..          ...         ...     ...  ...                 ...    ...\n",
       "155         155          58    Male   69                  44      2\n",
       "156         156         151    Male   43                  78      1\n",
       "157         157         135    Male   20                  73      1\n",
       "158         158         144  Female   32                  76      3\n",
       "159         159         112  Female   19                  63      2\n",
       "\n",
       "[160 rows x 6 columns]"
      ]
     },
     "execution_count": 3,
     "metadata": {},
     "output_type": "execute_result"
    }
   ],
   "source": [
    "# view data sets\n",
    "training_data"
   ]
  },
  {
   "cell_type": "code",
   "execution_count": 4,
   "id": "postal-merchandise",
   "metadata": {
    "execution": {
     "iopub.execute_input": "2021-05-05T23:06:19.437278Z",
     "iopub.status.busy": "2021-05-05T23:06:19.436440Z",
     "iopub.status.idle": "2021-05-05T23:06:19.442091Z",
     "shell.execute_reply": "2021-05-05T23:06:19.442697Z"
    },
    "papermill": {
     "duration": 0.048043,
     "end_time": "2021-05-05T23:06:19.442894",
     "exception": false,
     "start_time": "2021-05-05T23:06:19.394851",
     "status": "completed"
    },
    "tags": []
   },
   "outputs": [
    {
     "data": {
      "text/html": [
       "<div>\n",
       "<style scoped>\n",
       "    .dataframe tbody tr th:only-of-type {\n",
       "        vertical-align: middle;\n",
       "    }\n",
       "\n",
       "    .dataframe tbody tr th {\n",
       "        vertical-align: top;\n",
       "    }\n",
       "\n",
       "    .dataframe thead th {\n",
       "        text-align: right;\n",
       "    }\n",
       "</style>\n",
       "<table border=\"1\" class=\"dataframe\">\n",
       "  <thead>\n",
       "    <tr style=\"text-align: right;\">\n",
       "      <th></th>\n",
       "      <th>Unnamed: 0</th>\n",
       "      <th>CustomerID</th>\n",
       "      <th>Genre</th>\n",
       "      <th>Age</th>\n",
       "      <th>Annual Income (k$)</th>\n",
       "    </tr>\n",
       "  </thead>\n",
       "  <tbody>\n",
       "    <tr>\n",
       "      <th>0</th>\n",
       "      <td>0</td>\n",
       "      <td>1</td>\n",
       "      <td>Male</td>\n",
       "      <td>19</td>\n",
       "      <td>15</td>\n",
       "    </tr>\n",
       "    <tr>\n",
       "      <th>1</th>\n",
       "      <td>1</td>\n",
       "      <td>147</td>\n",
       "      <td>Male</td>\n",
       "      <td>48</td>\n",
       "      <td>77</td>\n",
       "    </tr>\n",
       "    <tr>\n",
       "      <th>2</th>\n",
       "      <td>2</td>\n",
       "      <td>159</td>\n",
       "      <td>Male</td>\n",
       "      <td>34</td>\n",
       "      <td>78</td>\n",
       "    </tr>\n",
       "    <tr>\n",
       "      <th>3</th>\n",
       "      <td>3</td>\n",
       "      <td>177</td>\n",
       "      <td>Male</td>\n",
       "      <td>58</td>\n",
       "      <td>88</td>\n",
       "    </tr>\n",
       "    <tr>\n",
       "      <th>4</th>\n",
       "      <td>4</td>\n",
       "      <td>198</td>\n",
       "      <td>Male</td>\n",
       "      <td>32</td>\n",
       "      <td>126</td>\n",
       "    </tr>\n",
       "    <tr>\n",
       "      <th>5</th>\n",
       "      <td>5</td>\n",
       "      <td>83</td>\n",
       "      <td>Male</td>\n",
       "      <td>67</td>\n",
       "      <td>54</td>\n",
       "    </tr>\n",
       "    <tr>\n",
       "      <th>6</th>\n",
       "      <td>6</td>\n",
       "      <td>76</td>\n",
       "      <td>Male</td>\n",
       "      <td>26</td>\n",
       "      <td>54</td>\n",
       "    </tr>\n",
       "    <tr>\n",
       "      <th>7</th>\n",
       "      <td>7</td>\n",
       "      <td>86</td>\n",
       "      <td>Male</td>\n",
       "      <td>48</td>\n",
       "      <td>54</td>\n",
       "    </tr>\n",
       "    <tr>\n",
       "      <th>8</th>\n",
       "      <td>8</td>\n",
       "      <td>81</td>\n",
       "      <td>Male</td>\n",
       "      <td>57</td>\n",
       "      <td>54</td>\n",
       "    </tr>\n",
       "    <tr>\n",
       "      <th>9</th>\n",
       "      <td>9</td>\n",
       "      <td>158</td>\n",
       "      <td>Female</td>\n",
       "      <td>30</td>\n",
       "      <td>78</td>\n",
       "    </tr>\n",
       "    <tr>\n",
       "      <th>10</th>\n",
       "      <td>10</td>\n",
       "      <td>72</td>\n",
       "      <td>Female</td>\n",
       "      <td>47</td>\n",
       "      <td>49</td>\n",
       "    </tr>\n",
       "    <tr>\n",
       "      <th>11</th>\n",
       "      <td>11</td>\n",
       "      <td>96</td>\n",
       "      <td>Male</td>\n",
       "      <td>24</td>\n",
       "      <td>60</td>\n",
       "    </tr>\n",
       "    <tr>\n",
       "      <th>12</th>\n",
       "      <td>12</td>\n",
       "      <td>139</td>\n",
       "      <td>Male</td>\n",
       "      <td>19</td>\n",
       "      <td>74</td>\n",
       "    </tr>\n",
       "    <tr>\n",
       "      <th>13</th>\n",
       "      <td>13</td>\n",
       "      <td>110</td>\n",
       "      <td>Male</td>\n",
       "      <td>66</td>\n",
       "      <td>63</td>\n",
       "    </tr>\n",
       "    <tr>\n",
       "      <th>14</th>\n",
       "      <td>14</td>\n",
       "      <td>148</td>\n",
       "      <td>Female</td>\n",
       "      <td>32</td>\n",
       "      <td>77</td>\n",
       "    </tr>\n",
       "    <tr>\n",
       "      <th>15</th>\n",
       "      <td>15</td>\n",
       "      <td>193</td>\n",
       "      <td>Male</td>\n",
       "      <td>33</td>\n",
       "      <td>113</td>\n",
       "    </tr>\n",
       "    <tr>\n",
       "      <th>16</th>\n",
       "      <td>16</td>\n",
       "      <td>127</td>\n",
       "      <td>Male</td>\n",
       "      <td>43</td>\n",
       "      <td>71</td>\n",
       "    </tr>\n",
       "    <tr>\n",
       "      <th>17</th>\n",
       "      <td>17</td>\n",
       "      <td>17</td>\n",
       "      <td>Female</td>\n",
       "      <td>35</td>\n",
       "      <td>21</td>\n",
       "    </tr>\n",
       "    <tr>\n",
       "      <th>18</th>\n",
       "      <td>18</td>\n",
       "      <td>88</td>\n",
       "      <td>Female</td>\n",
       "      <td>22</td>\n",
       "      <td>57</td>\n",
       "    </tr>\n",
       "    <tr>\n",
       "      <th>19</th>\n",
       "      <td>19</td>\n",
       "      <td>104</td>\n",
       "      <td>Male</td>\n",
       "      <td>26</td>\n",
       "      <td>62</td>\n",
       "    </tr>\n",
       "    <tr>\n",
       "      <th>20</th>\n",
       "      <td>20</td>\n",
       "      <td>178</td>\n",
       "      <td>Male</td>\n",
       "      <td>27</td>\n",
       "      <td>88</td>\n",
       "    </tr>\n",
       "    <tr>\n",
       "      <th>21</th>\n",
       "      <td>21</td>\n",
       "      <td>128</td>\n",
       "      <td>Male</td>\n",
       "      <td>40</td>\n",
       "      <td>71</td>\n",
       "    </tr>\n",
       "    <tr>\n",
       "      <th>22</th>\n",
       "      <td>22</td>\n",
       "      <td>12</td>\n",
       "      <td>Female</td>\n",
       "      <td>35</td>\n",
       "      <td>19</td>\n",
       "    </tr>\n",
       "    <tr>\n",
       "      <th>23</th>\n",
       "      <td>23</td>\n",
       "      <td>114</td>\n",
       "      <td>Male</td>\n",
       "      <td>19</td>\n",
       "      <td>64</td>\n",
       "    </tr>\n",
       "    <tr>\n",
       "      <th>24</th>\n",
       "      <td>24</td>\n",
       "      <td>95</td>\n",
       "      <td>Female</td>\n",
       "      <td>32</td>\n",
       "      <td>60</td>\n",
       "    </tr>\n",
       "    <tr>\n",
       "      <th>25</th>\n",
       "      <td>25</td>\n",
       "      <td>141</td>\n",
       "      <td>Female</td>\n",
       "      <td>57</td>\n",
       "      <td>75</td>\n",
       "    </tr>\n",
       "    <tr>\n",
       "      <th>26</th>\n",
       "      <td>26</td>\n",
       "      <td>171</td>\n",
       "      <td>Male</td>\n",
       "      <td>40</td>\n",
       "      <td>87</td>\n",
       "    </tr>\n",
       "    <tr>\n",
       "      <th>27</th>\n",
       "      <td>27</td>\n",
       "      <td>14</td>\n",
       "      <td>Female</td>\n",
       "      <td>24</td>\n",
       "      <td>20</td>\n",
       "    </tr>\n",
       "    <tr>\n",
       "      <th>28</th>\n",
       "      <td>28</td>\n",
       "      <td>70</td>\n",
       "      <td>Female</td>\n",
       "      <td>32</td>\n",
       "      <td>48</td>\n",
       "    </tr>\n",
       "    <tr>\n",
       "      <th>29</th>\n",
       "      <td>29</td>\n",
       "      <td>106</td>\n",
       "      <td>Female</td>\n",
       "      <td>21</td>\n",
       "      <td>62</td>\n",
       "    </tr>\n",
       "    <tr>\n",
       "      <th>30</th>\n",
       "      <td>30</td>\n",
       "      <td>82</td>\n",
       "      <td>Male</td>\n",
       "      <td>38</td>\n",
       "      <td>54</td>\n",
       "    </tr>\n",
       "    <tr>\n",
       "      <th>31</th>\n",
       "      <td>31</td>\n",
       "      <td>131</td>\n",
       "      <td>Male</td>\n",
       "      <td>47</td>\n",
       "      <td>71</td>\n",
       "    </tr>\n",
       "    <tr>\n",
       "      <th>32</th>\n",
       "      <td>32</td>\n",
       "      <td>161</td>\n",
       "      <td>Female</td>\n",
       "      <td>56</td>\n",
       "      <td>79</td>\n",
       "    </tr>\n",
       "    <tr>\n",
       "      <th>33</th>\n",
       "      <td>33</td>\n",
       "      <td>55</td>\n",
       "      <td>Female</td>\n",
       "      <td>50</td>\n",
       "      <td>43</td>\n",
       "    </tr>\n",
       "    <tr>\n",
       "      <th>34</th>\n",
       "      <td>34</td>\n",
       "      <td>38</td>\n",
       "      <td>Female</td>\n",
       "      <td>30</td>\n",
       "      <td>34</td>\n",
       "    </tr>\n",
       "    <tr>\n",
       "      <th>35</th>\n",
       "      <td>35</td>\n",
       "      <td>133</td>\n",
       "      <td>Female</td>\n",
       "      <td>25</td>\n",
       "      <td>72</td>\n",
       "    </tr>\n",
       "    <tr>\n",
       "      <th>36</th>\n",
       "      <td>36</td>\n",
       "      <td>65</td>\n",
       "      <td>Male</td>\n",
       "      <td>63</td>\n",
       "      <td>48</td>\n",
       "    </tr>\n",
       "    <tr>\n",
       "      <th>37</th>\n",
       "      <td>37</td>\n",
       "      <td>152</td>\n",
       "      <td>Male</td>\n",
       "      <td>39</td>\n",
       "      <td>78</td>\n",
       "    </tr>\n",
       "    <tr>\n",
       "      <th>38</th>\n",
       "      <td>38</td>\n",
       "      <td>52</td>\n",
       "      <td>Male</td>\n",
       "      <td>33</td>\n",
       "      <td>42</td>\n",
       "    </tr>\n",
       "    <tr>\n",
       "      <th>39</th>\n",
       "      <td>39</td>\n",
       "      <td>154</td>\n",
       "      <td>Female</td>\n",
       "      <td>38</td>\n",
       "      <td>78</td>\n",
       "    </tr>\n",
       "  </tbody>\n",
       "</table>\n",
       "</div>"
      ],
      "text/plain": [
       "    Unnamed: 0  CustomerID   Genre  Age  Annual Income (k$)\n",
       "0            0           1    Male   19                  15\n",
       "1            1         147    Male   48                  77\n",
       "2            2         159    Male   34                  78\n",
       "3            3         177    Male   58                  88\n",
       "4            4         198    Male   32                 126\n",
       "5            5          83    Male   67                  54\n",
       "6            6          76    Male   26                  54\n",
       "7            7          86    Male   48                  54\n",
       "8            8          81    Male   57                  54\n",
       "9            9         158  Female   30                  78\n",
       "10          10          72  Female   47                  49\n",
       "11          11          96    Male   24                  60\n",
       "12          12         139    Male   19                  74\n",
       "13          13         110    Male   66                  63\n",
       "14          14         148  Female   32                  77\n",
       "15          15         193    Male   33                 113\n",
       "16          16         127    Male   43                  71\n",
       "17          17          17  Female   35                  21\n",
       "18          18          88  Female   22                  57\n",
       "19          19         104    Male   26                  62\n",
       "20          20         178    Male   27                  88\n",
       "21          21         128    Male   40                  71\n",
       "22          22          12  Female   35                  19\n",
       "23          23         114    Male   19                  64\n",
       "24          24          95  Female   32                  60\n",
       "25          25         141  Female   57                  75\n",
       "26          26         171    Male   40                  87\n",
       "27          27          14  Female   24                  20\n",
       "28          28          70  Female   32                  48\n",
       "29          29         106  Female   21                  62\n",
       "30          30          82    Male   38                  54\n",
       "31          31         131    Male   47                  71\n",
       "32          32         161  Female   56                  79\n",
       "33          33          55  Female   50                  43\n",
       "34          34          38  Female   30                  34\n",
       "35          35         133  Female   25                  72\n",
       "36          36          65    Male   63                  48\n",
       "37          37         152    Male   39                  78\n",
       "38          38          52    Male   33                  42\n",
       "39          39         154  Female   38                  78"
      ]
     },
     "execution_count": 4,
     "metadata": {},
     "output_type": "execute_result"
    }
   ],
   "source": [
    "test_data"
   ]
  },
  {
   "cell_type": "code",
   "execution_count": 5,
   "id": "vocal-relaxation",
   "metadata": {
    "execution": {
     "iopub.execute_input": "2021-05-05T23:06:19.508768Z",
     "iopub.status.busy": "2021-05-05T23:06:19.508020Z",
     "iopub.status.idle": "2021-05-05T23:06:19.511551Z",
     "shell.execute_reply": "2021-05-05T23:06:19.510879Z"
    },
    "papermill": {
     "duration": 0.040743,
     "end_time": "2021-05-05T23:06:19.511706",
     "exception": false,
     "start_time": "2021-05-05T23:06:19.470963",
     "status": "completed"
    },
    "tags": []
   },
   "outputs": [],
   "source": [
    "# droping \"unnamed: 0\" column from both data sets  \n",
    "training_data = training_data.drop('Unnamed: 0',axis = 1)\n",
    "test_data = test_data.drop('Unnamed: 0',axis = 1)"
   ]
  },
  {
   "cell_type": "code",
   "execution_count": 6,
   "id": "cooperative-pipeline",
   "metadata": {
    "execution": {
     "iopub.execute_input": "2021-05-05T23:06:19.578070Z",
     "iopub.status.busy": "2021-05-05T23:06:19.577385Z",
     "iopub.status.idle": "2021-05-05T23:06:19.581232Z",
     "shell.execute_reply": "2021-05-05T23:06:19.580598Z"
    },
    "papermill": {
     "duration": 0.041354,
     "end_time": "2021-05-05T23:06:19.581376",
     "exception": false,
     "start_time": "2021-05-05T23:06:19.540022",
     "status": "completed"
    },
    "tags": []
   },
   "outputs": [
    {
     "data": {
      "text/html": [
       "<div>\n",
       "<style scoped>\n",
       "    .dataframe tbody tr th:only-of-type {\n",
       "        vertical-align: middle;\n",
       "    }\n",
       "\n",
       "    .dataframe tbody tr th {\n",
       "        vertical-align: top;\n",
       "    }\n",
       "\n",
       "    .dataframe thead th {\n",
       "        text-align: right;\n",
       "    }\n",
       "</style>\n",
       "<table border=\"1\" class=\"dataframe\">\n",
       "  <thead>\n",
       "    <tr style=\"text-align: right;\">\n",
       "      <th></th>\n",
       "      <th>CustomerID</th>\n",
       "      <th>Genre</th>\n",
       "      <th>Age</th>\n",
       "      <th>Annual Income (k$)</th>\n",
       "      <th>Class</th>\n",
       "    </tr>\n",
       "  </thead>\n",
       "  <tbody>\n",
       "    <tr>\n",
       "      <th>0</th>\n",
       "      <td>10</td>\n",
       "      <td>Female</td>\n",
       "      <td>30</td>\n",
       "      <td>19</td>\n",
       "      <td>3</td>\n",
       "    </tr>\n",
       "    <tr>\n",
       "      <th>1</th>\n",
       "      <td>20</td>\n",
       "      <td>Female</td>\n",
       "      <td>35</td>\n",
       "      <td>23</td>\n",
       "      <td>3</td>\n",
       "    </tr>\n",
       "    <tr>\n",
       "      <th>2</th>\n",
       "      <td>200</td>\n",
       "      <td>Male</td>\n",
       "      <td>30</td>\n",
       "      <td>137</td>\n",
       "      <td>3</td>\n",
       "    </tr>\n",
       "    <tr>\n",
       "      <th>3</th>\n",
       "      <td>153</td>\n",
       "      <td>Female</td>\n",
       "      <td>44</td>\n",
       "      <td>78</td>\n",
       "      <td>1</td>\n",
       "    </tr>\n",
       "    <tr>\n",
       "      <th>4</th>\n",
       "      <td>4</td>\n",
       "      <td>Female</td>\n",
       "      <td>23</td>\n",
       "      <td>16</td>\n",
       "      <td>3</td>\n",
       "    </tr>\n",
       "  </tbody>\n",
       "</table>\n",
       "</div>"
      ],
      "text/plain": [
       "   CustomerID   Genre  Age  Annual Income (k$)  Class\n",
       "0          10  Female   30                  19      3\n",
       "1          20  Female   35                  23      3\n",
       "2         200    Male   30                 137      3\n",
       "3         153  Female   44                  78      1\n",
       "4           4  Female   23                  16      3"
      ]
     },
     "execution_count": 6,
     "metadata": {},
     "output_type": "execute_result"
    }
   ],
   "source": [
    "#review data to check the changes\n",
    "training_data.head()"
   ]
  },
  {
   "cell_type": "code",
   "execution_count": 7,
   "id": "optional-stock",
   "metadata": {
    "execution": {
     "iopub.execute_input": "2021-05-05T23:06:19.649146Z",
     "iopub.status.busy": "2021-05-05T23:06:19.648423Z",
     "iopub.status.idle": "2021-05-05T23:06:19.651654Z",
     "shell.execute_reply": "2021-05-05T23:06:19.651062Z"
    },
    "papermill": {
     "duration": 0.041987,
     "end_time": "2021-05-05T23:06:19.651792",
     "exception": false,
     "start_time": "2021-05-05T23:06:19.609805",
     "status": "completed"
    },
    "tags": []
   },
   "outputs": [
    {
     "data": {
      "text/html": [
       "<div>\n",
       "<style scoped>\n",
       "    .dataframe tbody tr th:only-of-type {\n",
       "        vertical-align: middle;\n",
       "    }\n",
       "\n",
       "    .dataframe tbody tr th {\n",
       "        vertical-align: top;\n",
       "    }\n",
       "\n",
       "    .dataframe thead th {\n",
       "        text-align: right;\n",
       "    }\n",
       "</style>\n",
       "<table border=\"1\" class=\"dataframe\">\n",
       "  <thead>\n",
       "    <tr style=\"text-align: right;\">\n",
       "      <th></th>\n",
       "      <th>CustomerID</th>\n",
       "      <th>Genre</th>\n",
       "      <th>Age</th>\n",
       "      <th>Annual Income (k$)</th>\n",
       "    </tr>\n",
       "  </thead>\n",
       "  <tbody>\n",
       "    <tr>\n",
       "      <th>0</th>\n",
       "      <td>1</td>\n",
       "      <td>Male</td>\n",
       "      <td>19</td>\n",
       "      <td>15</td>\n",
       "    </tr>\n",
       "    <tr>\n",
       "      <th>1</th>\n",
       "      <td>147</td>\n",
       "      <td>Male</td>\n",
       "      <td>48</td>\n",
       "      <td>77</td>\n",
       "    </tr>\n",
       "    <tr>\n",
       "      <th>2</th>\n",
       "      <td>159</td>\n",
       "      <td>Male</td>\n",
       "      <td>34</td>\n",
       "      <td>78</td>\n",
       "    </tr>\n",
       "    <tr>\n",
       "      <th>3</th>\n",
       "      <td>177</td>\n",
       "      <td>Male</td>\n",
       "      <td>58</td>\n",
       "      <td>88</td>\n",
       "    </tr>\n",
       "    <tr>\n",
       "      <th>4</th>\n",
       "      <td>198</td>\n",
       "      <td>Male</td>\n",
       "      <td>32</td>\n",
       "      <td>126</td>\n",
       "    </tr>\n",
       "  </tbody>\n",
       "</table>\n",
       "</div>"
      ],
      "text/plain": [
       "   CustomerID Genre  Age  Annual Income (k$)\n",
       "0           1  Male   19                  15\n",
       "1         147  Male   48                  77\n",
       "2         159  Male   34                  78\n",
       "3         177  Male   58                  88\n",
       "4         198  Male   32                 126"
      ]
     },
     "execution_count": 7,
     "metadata": {},
     "output_type": "execute_result"
    }
   ],
   "source": [
    "test_data.head()"
   ]
  },
  {
   "cell_type": "code",
   "execution_count": 8,
   "id": "sixth-latino",
   "metadata": {
    "execution": {
     "iopub.execute_input": "2021-05-05T23:06:19.716606Z",
     "iopub.status.busy": "2021-05-05T23:06:19.715896Z",
     "iopub.status.idle": "2021-05-05T23:06:19.737997Z",
     "shell.execute_reply": "2021-05-05T23:06:19.738454Z"
    },
    "papermill": {
     "duration": 0.057879,
     "end_time": "2021-05-05T23:06:19.738623",
     "exception": false,
     "start_time": "2021-05-05T23:06:19.680744",
     "status": "completed"
    },
    "tags": []
   },
   "outputs": [
    {
     "data": {
      "text/html": [
       "<div>\n",
       "<style scoped>\n",
       "    .dataframe tbody tr th:only-of-type {\n",
       "        vertical-align: middle;\n",
       "    }\n",
       "\n",
       "    .dataframe tbody tr th {\n",
       "        vertical-align: top;\n",
       "    }\n",
       "\n",
       "    .dataframe thead th {\n",
       "        text-align: right;\n",
       "    }\n",
       "</style>\n",
       "<table border=\"1\" class=\"dataframe\">\n",
       "  <thead>\n",
       "    <tr style=\"text-align: right;\">\n",
       "      <th></th>\n",
       "      <th>CustomerID</th>\n",
       "      <th>Age</th>\n",
       "      <th>Annual Income (k$)</th>\n",
       "      <th>Class</th>\n",
       "    </tr>\n",
       "  </thead>\n",
       "  <tbody>\n",
       "    <tr>\n",
       "      <th>count</th>\n",
       "      <td>160.000000</td>\n",
       "      <td>160.000000</td>\n",
       "      <td>160.000000</td>\n",
       "      <td>160.000000</td>\n",
       "    </tr>\n",
       "    <tr>\n",
       "      <th>mean</th>\n",
       "      <td>98.675000</td>\n",
       "      <td>39.112500</td>\n",
       "      <td>59.962500</td>\n",
       "      <td>2.031250</td>\n",
       "    </tr>\n",
       "    <tr>\n",
       "      <th>std</th>\n",
       "      <td>59.264735</td>\n",
       "      <td>14.094911</td>\n",
       "      <td>27.006612</td>\n",
       "      <td>0.747506</td>\n",
       "    </tr>\n",
       "    <tr>\n",
       "      <th>min</th>\n",
       "      <td>2.000000</td>\n",
       "      <td>18.000000</td>\n",
       "      <td>15.000000</td>\n",
       "      <td>1.000000</td>\n",
       "    </tr>\n",
       "    <tr>\n",
       "      <th>25%</th>\n",
       "      <td>45.750000</td>\n",
       "      <td>29.000000</td>\n",
       "      <td>39.000000</td>\n",
       "      <td>1.000000</td>\n",
       "    </tr>\n",
       "    <tr>\n",
       "      <th>50%</th>\n",
       "      <td>98.500000</td>\n",
       "      <td>36.000000</td>\n",
       "      <td>60.500000</td>\n",
       "      <td>2.000000</td>\n",
       "    </tr>\n",
       "    <tr>\n",
       "      <th>75%</th>\n",
       "      <td>150.250000</td>\n",
       "      <td>49.000000</td>\n",
       "      <td>78.000000</td>\n",
       "      <td>3.000000</td>\n",
       "    </tr>\n",
       "    <tr>\n",
       "      <th>max</th>\n",
       "      <td>200.000000</td>\n",
       "      <td>70.000000</td>\n",
       "      <td>137.000000</td>\n",
       "      <td>3.000000</td>\n",
       "    </tr>\n",
       "  </tbody>\n",
       "</table>\n",
       "</div>"
      ],
      "text/plain": [
       "       CustomerID         Age  Annual Income (k$)       Class\n",
       "count  160.000000  160.000000          160.000000  160.000000\n",
       "mean    98.675000   39.112500           59.962500    2.031250\n",
       "std     59.264735   14.094911           27.006612    0.747506\n",
       "min      2.000000   18.000000           15.000000    1.000000\n",
       "25%     45.750000   29.000000           39.000000    1.000000\n",
       "50%     98.500000   36.000000           60.500000    2.000000\n",
       "75%    150.250000   49.000000           78.000000    3.000000\n",
       "max    200.000000   70.000000          137.000000    3.000000"
      ]
     },
     "execution_count": 8,
     "metadata": {},
     "output_type": "execute_result"
    }
   ],
   "source": [
    "# describe the data\n",
    "training_data.describe()"
   ]
  },
  {
   "cell_type": "code",
   "execution_count": 9,
   "id": "empirical-immune",
   "metadata": {
    "execution": {
     "iopub.execute_input": "2021-05-05T23:06:19.803088Z",
     "iopub.status.busy": "2021-05-05T23:06:19.802461Z",
     "iopub.status.idle": "2021-05-05T23:06:19.819574Z",
     "shell.execute_reply": "2021-05-05T23:06:19.820106Z"
    },
    "papermill": {
     "duration": 0.051946,
     "end_time": "2021-05-05T23:06:19.820277",
     "exception": false,
     "start_time": "2021-05-05T23:06:19.768331",
     "status": "completed"
    },
    "tags": []
   },
   "outputs": [
    {
     "name": "stdout",
     "output_type": "stream",
     "text": [
      "<class 'pandas.core.frame.DataFrame'>\n",
      "RangeIndex: 160 entries, 0 to 159\n",
      "Data columns (total 5 columns):\n",
      " #   Column              Non-Null Count  Dtype \n",
      "---  ------              --------------  ----- \n",
      " 0   CustomerID          160 non-null    int64 \n",
      " 1   Genre               160 non-null    object\n",
      " 2   Age                 160 non-null    int64 \n",
      " 3   Annual Income (k$)  160 non-null    int64 \n",
      " 4   Class               160 non-null    int64 \n",
      "dtypes: int64(4), object(1)\n",
      "memory usage: 6.4+ KB\n"
     ]
    }
   ],
   "source": [
    "#viewing info about data \n",
    "training_data.info()"
   ]
  },
  {
   "cell_type": "code",
   "execution_count": 10,
   "id": "elder-pattern",
   "metadata": {
    "execution": {
     "iopub.execute_input": "2021-05-05T23:06:19.883744Z",
     "iopub.status.busy": "2021-05-05T23:06:19.883166Z",
     "iopub.status.idle": "2021-05-05T23:06:19.891340Z",
     "shell.execute_reply": "2021-05-05T23:06:19.890618Z"
    },
    "papermill": {
     "duration": 0.041009,
     "end_time": "2021-05-05T23:06:19.891482",
     "exception": false,
     "start_time": "2021-05-05T23:06:19.850473",
     "status": "completed"
    },
    "tags": []
   },
   "outputs": [],
   "source": [
    "#changing data type of Class to category\n",
    "training_data = training_data.astype({ \"Class\":'category'})"
   ]
  },
  {
   "cell_type": "code",
   "execution_count": 11,
   "id": "black-transition",
   "metadata": {
    "execution": {
     "iopub.execute_input": "2021-05-05T23:06:19.969955Z",
     "iopub.status.busy": "2021-05-05T23:06:19.969279Z",
     "iopub.status.idle": "2021-05-05T23:06:19.972416Z",
     "shell.execute_reply": "2021-05-05T23:06:19.971782Z"
    },
    "papermill": {
     "duration": 0.050362,
     "end_time": "2021-05-05T23:06:19.972549",
     "exception": false,
     "start_time": "2021-05-05T23:06:19.922187",
     "status": "completed"
    },
    "tags": []
   },
   "outputs": [
    {
     "name": "stdout",
     "output_type": "stream",
     "text": [
      "<class 'pandas.core.frame.DataFrame'>\n",
      "RangeIndex: 160 entries, 0 to 159\n",
      "Data columns (total 5 columns):\n",
      " #   Column              Non-Null Count  Dtype   \n",
      "---  ------              --------------  -----   \n",
      " 0   CustomerID          160 non-null    int64   \n",
      " 1   Genre               160 non-null    object  \n",
      " 2   Age                 160 non-null    int64   \n",
      " 3   Annual Income (k$)  160 non-null    int64   \n",
      " 4   Class               160 non-null    category\n",
      "dtypes: category(1), int64(3), object(1)\n",
      "memory usage: 5.4+ KB\n"
     ]
    }
   ],
   "source": [
    "#check changing dtypes \n",
    "training_data.info()"
   ]
  },
  {
   "cell_type": "code",
   "execution_count": 12,
   "id": "electoral-raising",
   "metadata": {
    "execution": {
     "iopub.execute_input": "2021-05-05T23:06:20.042580Z",
     "iopub.status.busy": "2021-05-05T23:06:20.041895Z",
     "iopub.status.idle": "2021-05-05T23:06:20.044864Z",
     "shell.execute_reply": "2021-05-05T23:06:20.045380Z"
    },
    "papermill": {
     "duration": 0.042455,
     "end_time": "2021-05-05T23:06:20.045541",
     "exception": false,
     "start_time": "2021-05-05T23:06:20.003086",
     "status": "completed"
    },
    "tags": []
   },
   "outputs": [
    {
     "data": {
      "text/plain": [
       "2    71\n",
       "3    47\n",
       "1    42\n",
       "Name: Class, dtype: int64"
      ]
     },
     "execution_count": 12,
     "metadata": {},
     "output_type": "execute_result"
    }
   ],
   "source": [
    "training_data['Class'].value_counts()"
   ]
  },
  {
   "cell_type": "code",
   "execution_count": 13,
   "id": "ceramic-costs",
   "metadata": {
    "execution": {
     "iopub.execute_input": "2021-05-05T23:06:20.113110Z",
     "iopub.status.busy": "2021-05-05T23:06:20.112500Z",
     "iopub.status.idle": "2021-05-05T23:06:20.118795Z",
     "shell.execute_reply": "2021-05-05T23:06:20.119294Z"
    },
    "papermill": {
     "duration": 0.04148,
     "end_time": "2021-05-05T23:06:20.119459",
     "exception": false,
     "start_time": "2021-05-05T23:06:20.077979",
     "status": "completed"
    },
    "tags": []
   },
   "outputs": [
    {
     "data": {
      "text/plain": [
       "Female    96\n",
       "Male      64\n",
       "Name: Genre, dtype: int64"
      ]
     },
     "execution_count": 13,
     "metadata": {},
     "output_type": "execute_result"
    }
   ],
   "source": [
    "training_data['Genre'].value_counts()"
   ]
  },
  {
   "cell_type": "markdown",
   "id": "tested-limit",
   "metadata": {
    "papermill": {
     "duration": 0.031424,
     "end_time": "2021-05-05T23:06:20.182683",
     "exception": false,
     "start_time": "2021-05-05T23:06:20.151259",
     "status": "completed"
    },
    "tags": []
   },
   "source": [
    "# visualize data to see insights"
   ]
  },
  {
   "cell_type": "code",
   "execution_count": 14,
   "id": "executed-alignment",
   "metadata": {
    "execution": {
     "iopub.execute_input": "2021-05-05T23:06:20.248679Z",
     "iopub.status.busy": "2021-05-05T23:06:20.248031Z",
     "iopub.status.idle": "2021-05-05T23:06:20.452864Z",
     "shell.execute_reply": "2021-05-05T23:06:20.453376Z"
    },
    "papermill": {
     "duration": 0.239583,
     "end_time": "2021-05-05T23:06:20.453541",
     "exception": false,
     "start_time": "2021-05-05T23:06:20.213958",
     "status": "completed"
    },
    "tags": []
   },
   "outputs": [
    {
     "data": {
      "text/plain": [
       "<AxesSubplot:xlabel='Age', ylabel='Density'>"
      ]
     },
     "execution_count": 14,
     "metadata": {},
     "output_type": "execute_result"
    },
    {
     "data": {
      "image/png": "[encoded data removed]",
      "text/plain": [
       "<Figure size 432x288 with 1 Axes>"
      ]
     },
     "metadata": {
      "needs_background": "light"
     },
     "output_type": "display_data"
    }
   ],
   "source": [
    "sns.kdeplot(data=training_data['Age'], shade=True)"
   ]
  },
  {
   "cell_type": "markdown",
   "id": "assisted-rally",
   "metadata": {
    "papermill": {
     "duration": 0.033211,
     "end_time": "2021-05-05T23:06:20.519891",
     "exception": false,
     "start_time": "2021-05-05T23:06:20.486680",
     "status": "completed"
    },
    "tags": []
   },
   "source": [
    "**From the plot above we can conclude that most of the customers are in the middle age (between 20-50)**"
   ]
  },
  {
   "cell_type": "code",
   "execution_count": 15,
   "id": "interesting-queens",
   "metadata": {
    "execution": {
     "iopub.execute_input": "2021-05-05T23:06:20.615068Z",
     "iopub.status.busy": "2021-05-05T23:06:20.609872Z",
     "iopub.status.idle": "2021-05-05T23:06:20.759591Z",
     "shell.execute_reply": "2021-05-05T23:06:20.758875Z"
    },
    "papermill": {
     "duration": 0.207062,
     "end_time": "2021-05-05T23:06:20.759735",
     "exception": false,
     "start_time": "2021-05-05T23:06:20.552673",
     "status": "completed"
    },
    "tags": []
   },
   "outputs": [
    {
     "data": {
      "text/plain": [
       "<AxesSubplot:xlabel='Annual Income (k$)', ylabel='Density'>"
      ]
     },
     "execution_count": 15,
     "metadata": {},
     "output_type": "execute_result"
    },
    {
     "data": {
      "image/png": "[encoded data removed]",
      "text/plain": [
       "<Figure size 432x288 with 1 Axes>"
      ]
     },
     "metadata": {
      "needs_background": "light"
     },
     "output_type": "display_data"
    }
   ],
   "source": [
    "sns.kdeplot(data=training_data['Annual Income (k$)'], shade=True)"
   ]
  },
  {
   "cell_type": "markdown",
   "id": "cheap-chess",
   "metadata": {
    "papermill": {
     "duration": 0.03396,
     "end_time": "2021-05-05T23:06:20.829107",
     "exception": false,
     "start_time": "2021-05-05T23:06:20.795147",
     "status": "completed"
    },
    "tags": []
   },
   "source": [
    "\n",
    "**From the plot above we can conclude that most of the customers are having annual income between (25-90)(k$)**"
   ]
  },
  {
   "cell_type": "code",
   "execution_count": 16,
   "id": "commercial-thanksgiving",
   "metadata": {
    "execution": {
     "iopub.execute_input": "2021-05-05T23:06:21.037982Z",
     "iopub.status.busy": "2021-05-05T23:06:21.034770Z",
     "iopub.status.idle": "2021-05-05T23:06:21.103396Z",
     "shell.execute_reply": "2021-05-05T23:06:21.103864Z"
    },
    "papermill": {
     "duration": 0.240528,
     "end_time": "2021-05-05T23:06:21.104055",
     "exception": false,
     "start_time": "2021-05-05T23:06:20.863527",
     "status": "completed"
    },
    "tags": []
   },
   "outputs": [
    {
     "data": {
      "image/png": "[encoded data removed]",
      "text/plain": [
       "<Figure size 432x288 with 1 Axes>"
      ]
     },
     "metadata": {},
     "output_type": "display_data"
    }
   ],
   "source": [
    "x=training_data['Genre'].value_counts()\n",
    "plt.pie(x,labels=['Female','Male'],autopct='%1.1f%%')\n",
    "plt.show()"
   ]
  },
  {
   "cell_type": "code",
   "execution_count": 17,
   "id": "found-mandate",
   "metadata": {
    "execution": {
     "iopub.execute_input": "2021-05-05T23:06:21.219205Z",
     "iopub.status.busy": "2021-05-05T23:06:21.218481Z",
     "iopub.status.idle": "2021-05-05T23:06:21.438719Z",
     "shell.execute_reply": "2021-05-05T23:06:21.437305Z"
    },
    "papermill": {
     "duration": 0.299089,
     "end_time": "2021-05-05T23:06:21.438869",
     "exception": false,
     "start_time": "2021-05-05T23:06:21.139780",
     "status": "completed"
    },
    "tags": []
   },
   "outputs": [
    {
     "data": {
      "text/plain": [
       "<seaborn.axisgrid.FacetGrid at 0x7fc9c94e1f10>"
      ]
     },
     "execution_count": 17,
     "metadata": {},
     "output_type": "execute_result"
    },
    {
     "data": {
      "text/plain": [
       "<Figure size 1080x576 with 0 Axes>"
      ]
     },
     "metadata": {},
     "output_type": "display_data"
    },
    {
     "data": {
      "image/png": "[encoded data removed]",
      "text/plain": [
       "<Figure size 432.125x360 with 1 Axes>"
      ]
     },
     "metadata": {
      "needs_background": "light"
     },
     "output_type": "display_data"
    }
   ],
   "source": [
    "plt.figure(figsize=(15,8))\n",
    "sns.catplot(x=\"Class\",hue='Genre', kind=\"count\", palette=\"ch:.25\", data=training_data)"
   ]
  },
  {
   "cell_type": "markdown",
   "id": "velvet-interpretation",
   "metadata": {
    "papermill": {
     "duration": 0.037344,
     "end_time": "2021-05-05T23:06:21.513411",
     "exception": false,
     "start_time": "2021-05-05T23:06:21.476067",
     "status": "completed"
    },
    "tags": []
   },
   "source": [
    "**from this two plots we can notice that the majority of the customers are females *(in all classes)***"
   ]
  },
  {
   "cell_type": "code",
   "execution_count": 18,
   "id": "industrial-simon",
   "metadata": {
    "execution": {
     "iopub.execute_input": "2021-05-05T23:06:21.619231Z",
     "iopub.status.busy": "2021-05-05T23:06:21.617050Z",
     "iopub.status.idle": "2021-05-05T23:06:21.681144Z",
     "shell.execute_reply": "2021-05-05T23:06:21.680564Z"
    },
    "papermill": {
     "duration": 0.131221,
     "end_time": "2021-05-05T23:06:21.681292",
     "exception": false,
     "start_time": "2021-05-05T23:06:21.550071",
     "status": "completed"
    },
    "tags": []
   },
   "outputs": [
    {
     "data": {
      "image/png": "[encoded data removed]",
      "text/plain": [
       "<Figure size 432x288 with 1 Axes>"
      ]
     },
     "metadata": {},
     "output_type": "display_data"
    }
   ],
   "source": [
    "x=training_data['Class'].value_counts()\n",
    "plt.pie(x,labels=['2','3','1'],autopct='%1.1f%%')\n",
    "plt.show()"
   ]
  },
  {
   "cell_type": "markdown",
   "id": "quarterly-tension",
   "metadata": {
    "papermill": {
     "duration": 0.036945,
     "end_time": "2021-05-05T23:06:21.755527",
     "exception": false,
     "start_time": "2021-05-05T23:06:21.718582",
     "status": "completed"
    },
    "tags": []
   },
   "source": [
    "**from this pie chart we noticed that most of our customers are in the second class**"
   ]
  },
  {
   "cell_type": "code",
   "execution_count": 19,
   "id": "south-hostel",
   "metadata": {
    "execution": {
     "iopub.execute_input": "2021-05-05T23:06:21.862437Z",
     "iopub.status.busy": "2021-05-05T23:06:21.856011Z",
     "iopub.status.idle": "2021-05-05T23:06:22.007457Z",
     "shell.execute_reply": "2021-05-05T23:06:22.006786Z"
    },
    "papermill": {
     "duration": 0.213616,
     "end_time": "2021-05-05T23:06:22.007595",
     "exception": false,
     "start_time": "2021-05-05T23:06:21.793979",
     "status": "completed"
    },
    "tags": []
   },
   "outputs": [
    {
     "data": {
      "text/plain": [
       "<AxesSubplot:xlabel='Class', ylabel='Age'>"
      ]
     },
     "execution_count": 19,
     "metadata": {},
     "output_type": "execute_result"
    },
    {
     "data": {
      "image/png": "[encoded data removed]",
      "text/plain": [
       "<Figure size 432x288 with 1 Axes>"
      ]
     },
     "metadata": {
      "needs_background": "light"
     },
     "output_type": "display_data"
    }
   ],
   "source": [
    "sns.swarmplot(x='Class', y='Age',data=training_data)"
   ]
  },
  {
   "cell_type": "markdown",
   "id": "uniform-testimony",
   "metadata": {
    "papermill": {
     "duration": 0.039338,
     "end_time": "2021-05-05T23:06:22.086170",
     "exception": false,
     "start_time": "2021-05-05T23:06:22.046832",
     "status": "completed"
    },
    "tags": []
   },
   "source": [
    "**from this plot we noticed that the ages of customers in class 3 all of them under 40 years**"
   ]
  },
  {
   "cell_type": "code",
   "execution_count": 20,
   "id": "efficient-kazakhstan",
   "metadata": {
    "execution": {
     "iopub.execute_input": "2021-05-05T23:06:22.207654Z",
     "iopub.status.busy": "2021-05-05T23:06:22.206992Z",
     "iopub.status.idle": "2021-05-05T23:06:22.458994Z",
     "shell.execute_reply": "2021-05-05T23:06:22.457717Z"
    },
    "papermill": {
     "duration": 0.333541,
     "end_time": "2021-05-05T23:06:22.459161",
     "exception": false,
     "start_time": "2021-05-05T23:06:22.125620",
     "status": "completed"
    },
    "tags": []
   },
   "outputs": [
    {
     "data": {
      "text/plain": [
       "<AxesSubplot:xlabel='Class', ylabel='Annual Income (k$)'>"
      ]
     },
     "execution_count": 20,
     "metadata": {},
     "output_type": "execute_result"
    },
    {
     "data": {
      "text/plain": [
       "<Figure size 720x1224 with 0 Axes>"
      ]
     },
     "metadata": {},
     "output_type": "display_data"
    },
    {
     "data": {
      "image/png": "[encoded data removed]",
      "text/plain": [
       "<Figure size 360x360 with 1 Axes>"
      ]
     },
     "metadata": {
      "needs_background": "light"
     },
     "output_type": "display_data"
    }
   ],
   "source": [
    "plt.figure(figsize=(10,17))\n",
    "sns.catplot(x=\"Class\", y=\"Annual Income (k$)\", kind=\"box\", data=training_data)\n",
    "sns.swarmplot(x='Class', y=\"Annual Income (k$)\", data=training_data, color=\"0.3\")\n",
    "#plt.figure(figsize=(7,8))\n",
    "#sns.violinplot(x=\"Class\", y=\"Annual Income (k$)\", data=training_data, inner=None)"
   ]
  },
  {
   "cell_type": "markdown",
   "id": "signal-gossip",
   "metadata": {
    "papermill": {
     "duration": 0.041623,
     "end_time": "2021-05-05T23:06:22.541936",
     "exception": false,
     "start_time": "2021-05-05T23:06:22.500313",
     "status": "completed"
    },
    "tags": []
   },
   "source": [
    "*  **from the previous mixing plot we concluded that customers in class 1 & 3 75% of them are having < 90k in the year**\n",
    "\n",
    "*  **and in class 2 almost 100% of them are having < 90k in the year**"
   ]
  },
  {
   "cell_type": "markdown",
   "id": "married-jordan",
   "metadata": {
    "papermill": {
     "duration": 0.040831,
     "end_time": "2021-05-05T23:06:22.623569",
     "exception": false,
     "start_time": "2021-05-05T23:06:22.582738",
     "status": "completed"
    },
    "tags": []
   },
   "source": [
    "# Generating Model"
   ]
  },
  {
   "cell_type": "code",
   "execution_count": 21,
   "id": "abandoned-weather",
   "metadata": {
    "execution": {
     "iopub.execute_input": "2021-05-05T23:06:22.712976Z",
     "iopub.status.busy": "2021-05-05T23:06:22.712297Z",
     "iopub.status.idle": "2021-05-05T23:06:22.718761Z",
     "shell.execute_reply": "2021-05-05T23:06:22.718223Z"
    },
    "papermill": {
     "duration": 0.053773,
     "end_time": "2021-05-05T23:06:22.718894",
     "exception": false,
     "start_time": "2021-05-05T23:06:22.665121",
     "status": "completed"
    },
    "tags": []
   },
   "outputs": [],
   "source": [
    "#Convert Genre from object to int (training_data)\n",
    "training_data.Genre = training_data.Genre.astype('category')\n",
    "\n",
    "label_encoder = preprocessing.LabelEncoder()\n",
    "training_data['Genre'] = label_encoder.fit_transform(training_data['Genre'])\n",
    "\n",
    "#Convert Genre from object to int (test_data)\n",
    "test_data.Genre = test_data.Genre.astype('category')\n",
    "label_encoder1 = preprocessing.LabelEncoder()\n",
    "test_data['Genre'] = label_encoder1.fit_transform(test_data['Genre'])"
   ]
  },
  {
   "cell_type": "code",
   "execution_count": 22,
   "id": "metric-polls",
   "metadata": {
    "execution": {
     "iopub.execute_input": "2021-05-05T23:06:22.805192Z",
     "iopub.status.busy": "2021-05-05T23:06:22.804475Z",
     "iopub.status.idle": "2021-05-05T23:06:22.809517Z",
     "shell.execute_reply": "2021-05-05T23:06:22.809997Z"
    },
    "papermill": {
     "duration": 0.049995,
     "end_time": "2021-05-05T23:06:22.810169",
     "exception": false,
     "start_time": "2021-05-05T23:06:22.760174",
     "status": "completed"
    },
    "tags": []
   },
   "outputs": [],
   "source": [
    "# Create feature array \n",
    "feartures = ['Genre','Age','Annual Income (k$)']\n",
    "X = training_data[feartures]\n",
    "y = training_data['Class']"
   ]
  },
  {
   "cell_type": "code",
   "execution_count": 23,
   "id": "textile-argument",
   "metadata": {
    "execution": {
     "iopub.execute_input": "2021-05-05T23:06:22.895942Z",
     "iopub.status.busy": "2021-05-05T23:06:22.895311Z",
     "iopub.status.idle": "2021-05-05T23:06:22.900711Z",
     "shell.execute_reply": "2021-05-05T23:06:22.901206Z"
    },
    "papermill": {
     "duration": 0.049952,
     "end_time": "2021-05-05T23:06:22.901382",
     "exception": false,
     "start_time": "2021-05-05T23:06:22.851430",
     "status": "completed"
    },
    "tags": []
   },
   "outputs": [],
   "source": [
    "# Split data into training and test set\n",
    "X_train, X_test, y_train, y_test = train_test_split(X, y, test_size = 0.2,random_state = 0)"
   ]
  },
  {
   "cell_type": "code",
   "execution_count": 24,
   "id": "comprehensive-better",
   "metadata": {
    "execution": {
     "iopub.execute_input": "2021-05-05T23:06:23.000346Z",
     "iopub.status.busy": "2021-05-05T23:06:22.999602Z",
     "iopub.status.idle": "2021-05-05T23:06:23.010806Z",
     "shell.execute_reply": "2021-05-05T23:06:23.011395Z"
    },
    "papermill": {
     "duration": 0.064888,
     "end_time": "2021-05-05T23:06:23.011584",
     "exception": false,
     "start_time": "2021-05-05T23:06:22.946696",
     "status": "completed"
    },
    "tags": []
   },
   "outputs": [],
   "source": [
    "#Generate a k-NN model using neighbors value.\n",
    "knn = KNeighborsClassifier(n_neighbors=8)\n",
    "#train the model using the training sets\n",
    "knn.fit(X_train, y_train)\n",
    "#predic the class\n",
    "y_pred = knn.predict(X_test)"
   ]
  },
  {
   "cell_type": "code",
   "execution_count": 25,
   "id": "hollywood-topic",
   "metadata": {
    "execution": {
     "iopub.execute_input": "2021-05-05T23:06:23.099366Z",
     "iopub.status.busy": "2021-05-05T23:06:23.098679Z",
     "iopub.status.idle": "2021-05-05T23:06:23.108738Z",
     "shell.execute_reply": "2021-05-05T23:06:23.108223Z"
    },
    "papermill": {
     "duration": 0.055727,
     "end_time": "2021-05-05T23:06:23.108877",
     "exception": false,
     "start_time": "2021-05-05T23:06:23.053150",
     "status": "completed"
    },
    "tags": []
   },
   "outputs": [
    {
     "name": "stdout",
     "output_type": "stream",
     "text": [
      "Accuracy: 0.90625\n"
     ]
    }
   ],
   "source": [
    "# Model Accuracy, how often is the classifier correct?\n",
    "print(\"Accuracy:\" ,knn.score(X_test,y_test))"
   ]
  },
  {
   "cell_type": "markdown",
   "id": "plastic-phoenix",
   "metadata": {
    "papermill": {
     "duration": 0.041732,
     "end_time": "2021-05-05T23:06:23.192850",
     "exception": false,
     "start_time": "2021-05-05T23:06:23.151118",
     "status": "completed"
    },
    "tags": []
   },
   "source": [
    "# Accuracy: 0.90625"
   ]
  },
  {
   "cell_type": "markdown",
   "id": "mineral-picnic",
   "metadata": {
    "papermill": {
     "duration": 0.041564,
     "end_time": "2021-05-05T23:06:23.276339",
     "exception": false,
     "start_time": "2021-05-05T23:06:23.234775",
     "status": "completed"
    },
    "tags": []
   },
   "source": [
    "**predicting the class for the test set**"
   ]
  },
  {
   "cell_type": "code",
   "execution_count": 26,
   "id": "adjustable-monday",
   "metadata": {
    "execution": {
     "iopub.execute_input": "2021-05-05T23:06:23.369374Z",
     "iopub.status.busy": "2021-05-05T23:06:23.368572Z",
     "iopub.status.idle": "2021-05-05T23:06:23.376412Z",
     "shell.execute_reply": "2021-05-05T23:06:23.375743Z"
    },
    "papermill": {
     "duration": 0.057983,
     "end_time": "2021-05-05T23:06:23.376553",
     "exception": false,
     "start_time": "2021-05-05T23:06:23.318570",
     "status": "completed"
    },
    "tags": []
   },
   "outputs": [
    {
     "data": {
      "text/plain": [
       "array([3, 1, 3, 1, 1, 2, 2, 2, 2, 3, 2, 2, 1, 2, 3, 3, 1, 1, 2, 2, 3, 1,\n",
       "       1, 2, 2, 1, 1, 3, 2, 2, 2, 2, 1, 2, 2, 1, 2, 1, 2, 1])"
      ]
     },
     "execution_count": 26,
     "metadata": {},
     "output_type": "execute_result"
    }
   ],
   "source": [
    "feartures1 = ['Genre','Age','Annual Income (k$)']\n",
    "X1 = test_data[feartures1]\n",
    "_test = X1\n",
    "predictions = knn.predict(_test)\n",
    "predictions"
   ]
  },
  {
   "cell_type": "code",
   "execution_count": 27,
   "id": "injured-oklahoma",
   "metadata": {
    "execution": {
     "iopub.execute_input": "2021-05-05T23:06:23.474528Z",
     "iopub.status.busy": "2021-05-05T23:06:23.473485Z",
     "iopub.status.idle": "2021-05-05T23:06:23.484682Z",
     "shell.execute_reply": "2021-05-05T23:06:23.484045Z"
    },
    "papermill": {
     "duration": 0.065492,
     "end_time": "2021-05-05T23:06:23.484817",
     "exception": false,
     "start_time": "2021-05-05T23:06:23.419325",
     "status": "completed"
    },
    "tags": []
   },
   "outputs": [
    {
     "name": "stdout",
     "output_type": "stream",
     "text": [
      "<class 'pandas.core.frame.DataFrame'>\n",
      "RangeIndex: 40 entries, 0 to 39\n",
      "Data columns (total 5 columns):\n",
      " #   Column              Non-Null Count  Dtype   \n",
      "---  ------              --------------  -----   \n",
      " 0   CustomerID          40 non-null     int64   \n",
      " 1   Genre               40 non-null     int64   \n",
      " 2   Age                 40 non-null     int64   \n",
      " 3   Annual Income (k$)  40 non-null     int64   \n",
      " 4   Class               40 non-null     category\n",
      "dtypes: category(1), int64(4)\n",
      "memory usage: 1.5 KB\n"
     ]
    }
   ],
   "source": [
    "# add class to data_test\n",
    "df =pd.DataFrame(test_data)\n",
    "df['Class'] = predictions\n",
    "#convert class to categorical \n",
    "test_data = test_data.astype({ \"Class\":'category'})\n",
    "test_data.info()"
   ]
  },
  {
   "cell_type": "code",
   "execution_count": 28,
   "id": "blessed-singer",
   "metadata": {
    "execution": {
     "iopub.execute_input": "2021-05-05T23:06:23.583637Z",
     "iopub.status.busy": "2021-05-05T23:06:23.582897Z",
     "iopub.status.idle": "2021-05-05T23:06:23.587181Z",
     "shell.execute_reply": "2021-05-05T23:06:23.586559Z"
    },
    "papermill": {
     "duration": 0.059241,
     "end_time": "2021-05-05T23:06:23.587324",
     "exception": false,
     "start_time": "2021-05-05T23:06:23.528083",
     "status": "completed"
    },
    "tags": []
   },
   "outputs": [
    {
     "data": {
      "text/html": [
       "<div>\n",
       "<style scoped>\n",
       "    .dataframe tbody tr th:only-of-type {\n",
       "        vertical-align: middle;\n",
       "    }\n",
       "\n",
       "    .dataframe tbody tr th {\n",
       "        vertical-align: top;\n",
       "    }\n",
       "\n",
       "    .dataframe thead th {\n",
       "        text-align: right;\n",
       "    }\n",
       "</style>\n",
       "<table border=\"1\" class=\"dataframe\">\n",
       "  <thead>\n",
       "    <tr style=\"text-align: right;\">\n",
       "      <th></th>\n",
       "      <th>CustomerID</th>\n",
       "      <th>Genre</th>\n",
       "      <th>Age</th>\n",
       "      <th>Annual Income (k$)</th>\n",
       "      <th>Class</th>\n",
       "    </tr>\n",
       "  </thead>\n",
       "  <tbody>\n",
       "    <tr>\n",
       "      <th>0</th>\n",
       "      <td>1</td>\n",
       "      <td>Male</td>\n",
       "      <td>19</td>\n",
       "      <td>15</td>\n",
       "      <td>3</td>\n",
       "    </tr>\n",
       "    <tr>\n",
       "      <th>1</th>\n",
       "      <td>147</td>\n",
       "      <td>Male</td>\n",
       "      <td>48</td>\n",
       "      <td>77</td>\n",
       "      <td>1</td>\n",
       "    </tr>\n",
       "    <tr>\n",
       "      <th>2</th>\n",
       "      <td>159</td>\n",
       "      <td>Male</td>\n",
       "      <td>34</td>\n",
       "      <td>78</td>\n",
       "      <td>3</td>\n",
       "    </tr>\n",
       "    <tr>\n",
       "      <th>3</th>\n",
       "      <td>177</td>\n",
       "      <td>Male</td>\n",
       "      <td>58</td>\n",
       "      <td>88</td>\n",
       "      <td>1</td>\n",
       "    </tr>\n",
       "    <tr>\n",
       "      <th>4</th>\n",
       "      <td>198</td>\n",
       "      <td>Male</td>\n",
       "      <td>32</td>\n",
       "      <td>126</td>\n",
       "      <td>1</td>\n",
       "    </tr>\n",
       "  </tbody>\n",
       "</table>\n",
       "</div>"
      ],
      "text/plain": [
       "   CustomerID Genre  Age  Annual Income (k$) Class\n",
       "0           1  Male   19                  15     3\n",
       "1         147  Male   48                  77     1\n",
       "2         159  Male   34                  78     3\n",
       "3         177  Male   58                  88     1\n",
       "4         198  Male   32                 126     1"
      ]
     },
     "execution_count": 28,
     "metadata": {},
     "output_type": "execute_result"
    }
   ],
   "source": [
    "#changing genre 0 to female 1 to male after modeling\n",
    "test_data[\"Genre\"].replace({1: \"Male\", 0: \"Female\"}, inplace=True)\n",
    "test_data.head()"
   ]
  },
  {
   "cell_type": "code",
   "execution_count": 29,
   "id": "enclosed-extraction",
   "metadata": {
    "execution": {
     "iopub.execute_input": "2021-05-05T23:06:23.677047Z",
     "iopub.status.busy": "2021-05-05T23:06:23.676444Z",
     "iopub.status.idle": "2021-05-05T23:06:23.691503Z",
     "shell.execute_reply": "2021-05-05T23:06:23.690926Z"
    },
    "papermill": {
     "duration": 0.06096,
     "end_time": "2021-05-05T23:06:23.691652",
     "exception": false,
     "start_time": "2021-05-05T23:06:23.630692",
     "status": "completed"
    },
    "tags": []
   },
   "outputs": [
    {
     "name": "stdout",
     "output_type": "stream",
     "text": [
      "<class 'pandas.core.frame.DataFrame'>\n",
      "RangeIndex: 40 entries, 0 to 39\n",
      "Data columns (total 5 columns):\n",
      " #   Column              Non-Null Count  Dtype   \n",
      "---  ------              --------------  -----   \n",
      " 0   CustomerID          40 non-null     int64   \n",
      " 1   Genre               40 non-null     object  \n",
      " 2   Age                 40 non-null     int64   \n",
      " 3   Annual Income (k$)  40 non-null     int64   \n",
      " 4   Class               40 non-null     category\n",
      "dtypes: category(1), int64(3), object(1)\n",
      "memory usage: 1.5+ KB\n"
     ]
    }
   ],
   "source": [
    "#check changes in data types\n",
    "test_data.info()"
   ]
  },
  {
   "cell_type": "code",
   "execution_count": null,
   "id": "played-honolulu",
   "metadata": {
    "papermill": {
     "duration": 0.04394,
     "end_time": "2021-05-05T23:06:23.781830",
     "exception": false,
     "start_time": "2021-05-05T23:06:23.737890",
     "status": "completed"
    },
    "tags": []
   },
   "outputs": [],
   "source": []
  }
 ],
 "metadata": {
  "kernelspec": {
   "display_name": "Python 3",
   "language": "python",
   "name": "python3"
  },
  "language_info": {
   "codemirror_mode": {
    "name": "ipython",
    "version": 3
   },
   "file_extension": ".py",
   "mimetype": "text/x-python",
   "name": "python",
   "nbconvert_exporter": "python",
   "pygments_lexer": "ipython3",
   "version": "3.7.10"
  },
  "papermill": {
   "default_parameters": {},
   "duration": 15.893893,
   "end_time": "2021-05-05T23:06:25.528859",
   "environment_variables": {},
   "exception": null,
   "input_path": "__notebook__.ipynb",
   "output_path": "__notebook__.ipynb",
   "parameters": {},
   "start_time": "2021-05-05T23:06:09.634966",
   "version": "2.3.3"
  }
 },
 "nbformat": 4,
 "nbformat_minor": 5
}
